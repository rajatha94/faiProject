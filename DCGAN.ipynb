{
  "nbformat": 4,
  "nbformat_minor": 0,
  "metadata": {
    "colab": {
      "name": "DCGAN.ipynb",
      "provenance": [],
      "include_colab_link": true
    },
    "kernelspec": {
      "name": "python3",
      "display_name": "Python 3"
    },
    "accelerator": "GPU"
  },
  "cells": [
    {
      "cell_type": "markdown",
      "metadata": {
        "id": "view-in-github",
        "colab_type": "text"
      },
      "source": [
        "<a href=\"https://colab.research.google.com/github/rajatha94/faiProject/blob/master/DCGAN.ipynb\" target=\"_parent\"><img src=\"https://colab.research.google.com/assets/colab-badge.svg\" alt=\"Open In Colab\"/></a>"
      ]
    },
    {
      "cell_type": "code",
      "metadata": {
        "id": "2We2pHLytyiu",
        "colab_type": "code",
        "outputId": "99150383-18c8-4489-b0d2-584fa2f7b314",
        "colab": {
          "base_uri": "https://localhost:8080/",
          "height": 34
        }
      },
      "source": [
        "from tensorflow.python.client import device_lib\n",
        "!cat /proc/meminfo | egrep \"MemTotal*\""
      ],
      "execution_count": 0,
      "outputs": [
        {
          "output_type": "stream",
          "text": [
            "MemTotal:       13333556 kB\n"
          ],
          "name": "stdout"
        }
      ]
    },
    {
      "cell_type": "code",
      "metadata": {
        "id": "8bS8-H1ht3NF",
        "colab_type": "code",
        "colab": {}
      },
      "source": [
        "import tensorflow as tf\n",
        "import matplotlib.pyplot as plt\n",
        "import os\n",
        "import time\n",
        "from tensorflow.keras import layers\n",
        "from collections import defaultdict"
      ],
      "execution_count": 0,
      "outputs": []
    },
    {
      "cell_type": "code",
      "metadata": {
        "id": "4czG9tABt_tJ",
        "colab_type": "code",
        "colab": {}
      },
      "source": [
        "BUFFER_SIZE = 60000\n",
        "BATCH_SIZE = 128\n",
        "EPOCHS = 150\n",
        "NOISE_DIMENSION = 100\n",
        "NUM_OUTPUT = 16\n",
        "\n",
        "gen_losses = defaultdict(list)\n",
        "disc_losses = defaultdict(list)"
      ],
      "execution_count": 0,
      "outputs": []
    },
    {
      "cell_type": "code",
      "metadata": {
        "id": "Q2FlJhUauAmE",
        "colab_type": "code",
        "colab": {}
      },
      "source": [
        "def discriminator_loss(real_output, fake_output, epoch):\n",
        "    real_loss = cross_entropy(tf.ones_like(real_output), real_output)\n",
        "    fake_loss = cross_entropy(tf.zeros_like(fake_output), fake_output)\n",
        "    total_loss = real_loss + fake_loss\n",
        "    disc_losses[epoch].append(total_loss)\n",
        "    return total_loss\n",
        "\n",
        "def generator_loss(fake_output, epoch):\n",
        "    loss = cross_entropy(tf.ones_like(fake_output), fake_output)\n",
        "    gen_losses[epoch].append(loss)\n",
        "    return loss"
      ],
      "execution_count": 0,
      "outputs": []
    },
    {
      "cell_type": "code",
      "metadata": {
        "id": "i7ariM6I_7qp",
        "colab_type": "code",
        "colab": {}
      },
      "source": [
        "def generate_and_plot(model, epoch, input):\n",
        "    # Generate image.\n",
        "    predictions = model(input, training=False)\n",
        "\n",
        "    # Plot.\n",
        "    fig = plt.figure(figsize=(4, 4))\n",
        "\n",
        "    for i in range(predictions.shape[0]):\n",
        "        # We are generating 16 images displayed on a 4*4 grid.\n",
        "        plt.subplot(4, 4, i + 1)\n",
        "        plt.imshow(predictions[i, :, :, 0] * 127.5 + 127.5, cmap='gray')\n",
        "        plt.axis('off')\n",
        "\n",
        "    plt.savefig('image{:04d}.png'.format(epoch))\n",
        "    plt.show()"
      ],
      "execution_count": 0,
      "outputs": []
    },
    {
      "cell_type": "code",
      "metadata": {
        "id": "KkJn1Jnc_9ZG",
        "colab_type": "code",
        "colab": {}
      },
      "source": [
        "def train(dataset, epochs):\n",
        "    for epoch in range(epochs):\n",
        "        start_time = time.time()\n",
        "        for image_batch in dataset:\n",
        "            noise = tf.random.normal([BATCH_SIZE, NOISE_DIMENSION])\n",
        "\n",
        "            with tf.GradientTape() as gen_tape, tf.GradientTape() as disc_tape:\n",
        "                # Generator.\n",
        "                generated_images = generator(noise, training=True)\n",
        "\n",
        "                # Discriminator.\n",
        "                real_output = discriminator(image_batch, training=True)\n",
        "                fake_output = discriminator(generated_images, training=True)\n",
        "\n",
        "                gen_loss = generator_loss(fake_output, epoch)\n",
        "                disc_loss = discriminator_loss(real_output, fake_output, epoch)\n",
        "\n",
        "            gradients_of_generator = gen_tape.gradient(gen_loss, generator.trainable_variables)\n",
        "            gradients_of_discriminator = disc_tape.gradient(disc_loss, discriminator.trainable_variables)\n",
        "\n",
        "            generator_optimizer.apply_gradients(zip(gradients_of_generator, generator.trainable_variables))\n",
        "            discriminator_optimizer.apply_gradients(zip(gradients_of_discriminator, discriminator.trainable_variables))\n",
        "\n",
        "        generate_and_plot(generator, epoch + 1, seed)\n",
        "        epoch_runtime = time.time() - start_time\n",
        "\n",
        "    print ('Epoch#{}: {} sec'.format(epoch + 1, epoch_runtime))\n",
        "\n",
        "    # Final plot.\n",
        "    generate_and_plot(generator,\n",
        "                             epochs,\n",
        "                             seed)"
      ],
      "execution_count": 0,
      "outputs": []
    },
    {
      "cell_type": "code",
      "metadata": {
        "id": "JqeU9bdcAAa2",
        "colab_type": "code",
        "colab": {}
      },
      "source": [
        "def make_generator_model():\n",
        "    model = tf.keras.Sequential()\n",
        "    model.add(layers.Dense(7*7*256, use_bias=False, input_shape=(100,)))\n",
        "    model.add(layers.BatchNormalization())\n",
        "    model.add(layers.LeakyReLU())\n",
        "    model.add(layers.Reshape((7, 7, 256)))\n",
        "\n",
        "    model.add(layers.Conv2DTranspose(128, (5, 5), strides=(1, 1), padding='same', use_bias=False))\n",
        "    model.add(layers.BatchNormalization())\n",
        "    model.add(layers.LeakyReLU())\n",
        "\n",
        "    model.add(layers.Conv2DTranspose(64, (5, 5), strides=(2, 2), padding='same', use_bias=False))\n",
        "    model.add(layers.BatchNormalization())\n",
        "    model.add(layers.LeakyReLU())\n",
        "\n",
        "    model.add(layers.Conv2DTranspose(1, (5, 5), strides=(2, 2), padding='same',\n",
        "                                     use_bias=False, activation='tanh'))\n",
        "    return model"
      ],
      "execution_count": 0,
      "outputs": []
    },
    {
      "cell_type": "code",
      "metadata": {
        "id": "rEUTuI1hABJt",
        "colab_type": "code",
        "colab": {}
      },
      "source": [
        "def make_discriminator_model():\n",
        "    model = tf.keras.Sequential()\n",
        "    model.add(layers.Conv2DTranspose(1, (5, 5), strides=(2, 2), padding='same',\n",
        "                                     input_shape=[28, 28, 1]))\n",
        "    model.add(layers.LeakyReLU())\n",
        "    model.add(layers.Dropout(0.3))\n",
        "\n",
        "    model.add(layers.Conv2D(64, (5, 5), strides=(2, 2), padding='same'))\n",
        "    model.add(layers.LeakyReLU())\n",
        "    model.add(layers.Dropout(0.3))\n",
        "\n",
        "    model.add(layers.Conv2D(128, (5, 5), strides=(1, 1), padding='same'))\n",
        "    model.add(layers.LeakyReLU())\n",
        "    model.add(layers.Dropout(0.3))\n",
        "\n",
        "    model.add(layers.Flatten())\n",
        "    model.add(layers.Dense(1))\n",
        "\n",
        "    return model"
      ],
      "execution_count": 0,
      "outputs": []
    },
    {
      "cell_type": "code",
      "metadata": {
        "id": "pSjNaHsPuF4U",
        "colab_type": "code",
        "outputId": "829ed009-82db-4bd6-a941-45d21a1edd3e",
        "colab": {
          "base_uri": "https://localhost:8080/",
          "height": 51
        }
      },
      "source": [
        "(dataset_images, train_labels_l), (_, _) = tf.keras.datasets.mnist.load_data()\n",
        "dataset_images_reshaped = dataset_images.reshape(dataset_images.shape[0], 28, 28, 1).astype('float32')\n",
        "images = (dataset_images_reshaped - 127.5) / 127.5\n",
        "train_dataset = tf.data.Dataset.from_tensor_slices(images).shuffle(BUFFER_SIZE).batch(BATCH_SIZE)\n",
        "generator = make_generator_model()\n",
        "discriminator = make_discriminator_model()\n",
        "cross_entropy = tf.keras.losses.BinaryCrossentropy(from_logits=True)\n",
        "generator_optimizer = tf.keras.optimizers.Adam(0.0002)\n",
        "discriminator_optimizer = tf.keras.optimizers.Adam(0.0002)\n",
        "seed = tf.random.normal([NUM_OUTPUT, NOISE_DIMENSION])"
      ],
      "execution_count": 0,
      "outputs": [
        {
          "output_type": "stream",
          "text": [
            "Downloading data from https://storage.googleapis.com/tensorflow/tf-keras-datasets/mnist.npz\n",
            "11493376/11490434 [==============================] - 0s 0us/step\n"
          ],
          "name": "stdout"
        }
      ]
    },
    {
      "cell_type": "code",
      "metadata": {
        "id": "3_rnA3khALRo",
        "colab_type": "code",
        "colab": {}
      },
      "source": [
        "# Start the training.\n",
        "train(train_dataset, EPOCHS)"
      ],
      "execution_count": 0,
      "outputs": []
    },
    {
      "cell_type": "code",
      "metadata": {
        "id": "B85ak3ErW6iM",
        "colab_type": "code",
        "outputId": "17d5592f-9fca-46e1-a0ed-f79eeacfb80a",
        "colab": {
          "base_uri": "https://localhost:8080/",
          "height": 296
        }
      },
      "source": [
        "# Plots.\n",
        "plt.plot([i for i in range(EPOCHS)], [sum(gen_losses[i]) / len(gen_losses[i]) for i in range(EPOCHS)])\n",
        "plt.xlabel('Epochs')\n",
        "plt.ylabel('Loss')\n",
        "plt.plot([i for i in range(EPOCHS)], [sum(disc_losses[i]) / len(disc_losses[i]) for i in range(EPOCHS)])\n",
        "plt.legend(['Generator Loss', 'Discriminator Loss'], loc='upper right')"
      ],
      "execution_count": 0,
      "outputs": [
        {
          "output_type": "execute_result",
          "data": {
            "text/plain": [
              "<matplotlib.legend.Legend at 0x7f25bdf2fe48>"
            ]
          },
          "metadata": {
            "tags": []
          },
          "execution_count": 10
        },
        {
          "output_type": "display_data",
          "data": {
            "image/png": "[encoded data removed]",
            "text/plain": [
              "<Figure size 432x288 with 1 Axes>"
            ]
          },
          "metadata": {
            "tags": [],
            "needs_background": "light"
          }
        }
      ]
    },
    {
      "cell_type": "code",
      "metadata": {
        "id": "2XEytswphb6u",
        "colab_type": "code",
        "outputId": "2ae39087-b24e-4796-90de-f15990bc15a8",
        "colab": {
          "base_uri": "https://localhost:8080/",
          "height": 296
        }
      },
      "source": [
        "generator_losses = list()\n",
        "for i in range(EPOCHS):\n",
        "  for loss in gen_losses[i]:\n",
        "    generator_losses.append(loss)\n",
        "discriminator_losses = list()\n",
        "for i in range(EPOCHS):\n",
        "  for loss in disc_losses[i]:\n",
        "    discriminator_losses.append(loss)\n",
        "plt.plot([i for i in range(len(generator_losses))], [generator_losses[i] for i in range(len(generator_losses))])\n",
        "plt.xlabel('Epochs')\n",
        "plt.ylabel('Loss')\n",
        "plt.plot([i for i in range(len(discriminator_losses))], [discriminator_losses[i] for i in range(len(discriminator_losses))])\n",
        "plt.legend(['Generator Loss', 'Discriminator Loss'], loc='upper right')"
      ],
      "execution_count": 0,
      "outputs": [
        {
          "output_type": "execute_result",
          "data": {
            "text/plain": [
              "<matplotlib.legend.Legend at 0x7f26a559a3c8>"
            ]
          },
          "metadata": {
            "tags": []
          },
          "execution_count": 72
        },
        {
          "output_type": "display_data",
          "data": {
            "image/png": "[encoded data removed]",
            "text/plain": [
              "<Figure size 432x288 with 1 Axes>"
            ]
          },
          "metadata": {
            "tags": [],
            "needs_background": "light"
          }
        }
      ]
    }
  ]
}